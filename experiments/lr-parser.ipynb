{
 "cells": [
  {
   "cell_type": "markdown",
   "id": "19f4b11b",
   "metadata": {},
   "source": [
    "# LR parser\n",
    "LR parser is a bottom-up parser that can parse context-free languages in linear time,\n",
    "i.e. it reads input tokens, contatenates them into AST nodes in hope to build tree at the end.\n",
    "This notebook contains an implementation of LR(0) parser according to the Dragon Book."
   ]
  }
 ],
 "metadata": {
  "kernelspec": {
   "display_name": "Python 3 (ipykernel)",
   "language": "python",
   "name": "python3"
  },
  "language_info": {
   "codemirror_mode": {
    "name": "ipython",
    "version": 3
   },
   "file_extension": ".py",
   "mimetype": "text/x-python",
   "name": "python",
   "nbconvert_exporter": "python",
   "pygments_lexer": "ipython3",
   "version": "3.9.9"
  }
 },
 "nbformat": 4,
 "nbformat_minor": 5
}
