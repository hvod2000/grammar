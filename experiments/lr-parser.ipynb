{
 "cells": [
  {
   "cell_type": "markdown",
   "id": "19f4b11b",
   "metadata": {},
   "source": [
    "# LR parser\n",
    "LR parser is a bottom-up parser that can parse context-free languages in linear time,\n",
    "i.e. it reads input tokens, contatenates them into AST nodes in hope to build tree at the end.\n",
    "This notebook contains an implementation of LR(0) parser according to the Dragon Book."
   ]
  },
  {
   "cell_type": "markdown",
   "id": "f7f8b6c5",
   "metadata": {},
   "source": [
    "### Source context-free grammar\n",
    "I use this CFG as example(I took it from [wikipedia](https://en.wikipedia.org/wiki/LR_parser#Additional_example_1+1)):"
   ]
  },
  {
   "cell_type": "code",
   "execution_count": 1,
   "id": "f4743bcf",
   "metadata": {},
   "outputs": [],
   "source": [
    "grammar_source = \"\"\"\n",
    "    E → E * B\n",
    "    E → E + B\n",
    "    E → B\n",
    "    B → 0\n",
    "    B → 1\n",
    "\"\"\""
   ]
  },
  {
   "cell_type": "markdown",
   "id": "3cb8fa2b",
   "metadata": {},
   "source": [
    "This context-free grammar desribes context-free language that contains these sentences/words:\n",
    "    \n",
    "    0, 1, 0*1, 1+0, 1*1, 0+0, 1+1*1, 1+0*0+1+0*0*0*1\n",
    "It is ok to change the `grammar_source` to another grammar: the code will handle it correctly."
   ]
  },
  {
   "cell_type": "markdown",
   "id": "5a494bc1",
   "metadata": {},
   "source": [
    "### Parse rules"
   ]
  },
  {
   "cell_type": "code",
   "execution_count": 2,
   "id": "f113b1c5",
   "metadata": {},
   "outputs": [
    {
     "name": "stdout",
     "output_type": "stream",
     "text": [
      "E → E * B\n",
      "E → E + B\n",
      "E → B\n",
      "B → 0\n",
      "B → 1\n"
     ]
    }
   ],
   "source": [
    "def parse_rules(source):\n",
    "    rules = []\n",
    "    for rule in source.strip().split(\"\\n\"):\n",
    "        variable, body = rule.strip().split(\" → \")\n",
    "        rules.append((variable, tuple(body.split(\" \"))))\n",
    "    return rules\n",
    "rules = parse_rules(grammar_source)\n",
    "print(\"\\n\".join(f\"{variable} → {' '.join(body)}\" for variable, body in rules))"
   ]
  },
  {
   "cell_type": "markdown",
   "id": "0e9013f9",
   "metadata": {},
   "source": [
    "### Derive variables, terminals, start symbol from rules\n",
    "Mathematically speaking we [should](https://en.wikipedia.org/wiki/Context-free_grammar#Formal_definitions) specify variables, terminals, rules and start symbol in order to call it a grammar,\n",
    "but I too lazy for that. So instead I wrote a function `derive_symbols()` to derive all these things from rules."
   ]
  },
  {
   "cell_type": "code",
   "execution_count": 3,
   "id": "08d7361d",
   "metadata": {},
   "outputs": [
    {
     "name": "stdout",
     "output_type": "stream",
     "text": [
      "variables={'E', 'B'}\n",
      "terminals={'0', '*', '+', '1'}\n",
      "start='E'\n"
     ]
    }
   ],
   "source": [
    "def derive_symbols(rules):\n",
    "    symbols = set()\n",
    "    for variable, body in rules:\n",
    "        symbols.add(variable)\n",
    "        symbols.update(set(body))\n",
    "    variables = {variable for variable, body in rules}\n",
    "    terminals = symbols - variables\n",
    "    start = rules[0][0]\n",
    "    return variables, terminals, start\n",
    "variables, terminals, start = derive_symbols(rules)\n",
    "print(f\"{variables=}\\n{terminals=}\\n{start=}\")"
   ]
  },
  {
   "cell_type": "markdown",
   "id": "e999fe3a",
   "metadata": {},
   "source": [
    "On second thought I am too lazy to bring all four variables(variables, terminals, rules, start) everywhere,\n",
    "so it makes sence to implement the `Grammar` class according to its [mathematical definition](https://en.wikipedia.org/wiki/Context-free_grammar#Formal_definitions)."
   ]
  },
  {
   "cell_type": "code",
   "execution_count": 4,
   "id": "df775cdd",
   "metadata": {},
   "outputs": [
    {
     "name": "stdout",
     "output_type": "stream",
     "text": [
      "start symbol: E\n",
      "variables: E, B\n",
      "terminals: '0', '*', '+', '1'\n",
      "rules:\tE → E * B\n",
      "\tE → E + B\n",
      "\tE → B\n",
      "\tB → 0\n",
      "\tB → 1\n",
      "\n"
     ]
    }
   ],
   "source": [
    "import dataclasses\n",
    "@dataclasses.dataclass(frozen=True)\n",
    "class Grammar:\n",
    "    variables: set[str]\n",
    "    terminals: set[str]\n",
    "    rules: list[(str, tuple[str])]\n",
    "    start: str\n",
    "        \n",
    "    def __str__(self):\n",
    "        s = \"start symbol: \" + self.start + \"\\n\"\n",
    "        s += \"variables: \" + \", \".join(map(str, self.variables)) + \"\\n\"\n",
    "        s += \"terminals: \" + \", \".join(map(repr, self.terminals)) + \"\\n\"\n",
    "        rules = [f\"{var} → {' '.join(body)}\" for var, body in self.rules]\n",
    "        return s + \"rules:\\t\" + \"\\n\\t\".join(rules) + \"\\n\"\n",
    "    \n",
    "    def __hash__(self):\n",
    "        return id(self)\n",
    "grammar = Grammar(variables, terminals, rules, start)\n",
    "print(grammar)"
   ]
  }
 ],
 "metadata": {
  "kernelspec": {
   "display_name": "Python 3 (ipykernel)",
   "language": "python",
   "name": "python3"
  },
  "language_info": {
   "codemirror_mode": {
    "name": "ipython",
    "version": 3
   },
   "file_extension": ".py",
   "mimetype": "text/x-python",
   "name": "python",
   "nbconvert_exporter": "python",
   "pygments_lexer": "ipython3",
   "version": "3.9.9"
  }
 },
 "nbformat": 4,
 "nbformat_minor": 5
}
